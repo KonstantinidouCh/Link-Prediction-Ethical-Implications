{
 "cells": [
  {
   "cell_type": "code",
   "execution_count": 1,
   "id": "dbed3fc4-1d04-4b0b-af59-4514da11a32d",
   "metadata": {},
   "outputs": [
    {
     "name": "stdout",
     "output_type": "stream",
     "text": [
      "Collecting lightgbm\n",
      "  Downloading lightgbm-4.5.0-py3-none-win_amd64.whl.metadata (17 kB)\n",
      "Requirement already satisfied: numpy>=1.17.0 in c:\\users\\oisin\\anaconda3\\lib\\site-packages (from lightgbm) (1.26.4)\n",
      "Requirement already satisfied: scipy in c:\\users\\oisin\\anaconda3\\lib\\site-packages (from lightgbm) (1.13.1)\n",
      "Downloading lightgbm-4.5.0-py3-none-win_amd64.whl (1.4 MB)\n",
      "   ---------------------------------------- 0.0/1.4 MB ? eta -:--:--\n",
      "    --------------------------------------- 0.0/1.4 MB 1.3 MB/s eta 0:00:02\n",
      "   ------------- -------------------------- 0.5/1.4 MB 7.4 MB/s eta 0:00:01\n",
      "   ---------------------------- ----------- 1.0/1.4 MB 9.5 MB/s eta 0:00:01\n",
      "   ---------------------------------------- 1.4/1.4 MB 9.2 MB/s eta 0:00:00\n",
      "Installing collected packages: lightgbm\n",
      "Successfully installed lightgbm-4.5.0\n"
     ]
    }
   ],
   "source": [
    "!pip install lightgbm"
   ]
  },
  {
   "cell_type": "code",
   "execution_count": 3,
   "id": "eb93d1be-ceb7-4658-9c7a-397fee7b1bdf",
   "metadata": {},
   "outputs": [],
   "source": [
    "# import relevant libraries\n",
    "import itertools\n",
    "import networkx as nx\n",
    "import numpy as np\n",
    "import pandas as pd\n",
    "import matplotlib.pyplot as plt\n",
    "from sklearn.model_selection import train_test_split\n",
    "from sklearn.linear_model import LogisticRegression\n",
    "from sklearn.tree import DecisionTreeClassifier\n",
    "from sklearn.ensemble import RandomForestClassifier\n",
    "from sklearn.model_selection import GridSearchCV\n",
    "from sklearn.metrics import accuracy_score, roc_auc_score\n",
    "from networkx.algorithms.community import greedy_modularity_communities\n",
    "from sklearn.model_selection import cross_val_score\n",
    "from lightgbm import LGBMClassifier\n",
    "from sklearn.metrics import confusion_matrix, ConfusionMatrixDisplay"
   ]
  },
  {
   "cell_type": "code",
   "execution_count": 5,
   "id": "2f4e6ae8-255a-47fb-81ab-a748f0db8a19",
   "metadata": {},
   "outputs": [
    {
     "name": "stdout",
     "output_type": "stream",
     "text": [
      "Attributes DataFrame:\n",
      "    0          1\n",
      "0  ID  attribute\n",
      "1   0          l\n",
      "2   1          x\n",
      "3   2          x\n",
      "4   3          x\n",
      "\n",
      "Edges DataFrame:\n",
      "   0  1\n",
      "0  0  5\n",
      "1  0  6\n",
      "2  0  7\n",
      "3  0  8\n",
      "4  0  9\n",
      "\n",
      "Solution Input DataFrame:\n",
      "    0     1     2\n",
      "0  ID  int1  int2\n",
      "1   0    56   396\n",
      "2   1   760   853\n",
      "3   2   340  1137\n",
      "4   3   597   771\n",
      "\n",
      "Cleaned Attributes DataFrame:\n",
      "   Node Attribute\n",
      "1     0         l\n",
      "2     1         x\n",
      "3     2         x\n",
      "4     3         x\n",
      "5     4         x\n",
      "\n",
      "Cleaned Solution Input DataFrame:\n",
      "  ID  Node1  Node2\n",
      "1  0     56    396\n",
      "2  1    760    853\n",
      "3  2    340   1137\n",
      "4  3    597    771\n",
      "5  4   1355   1410\n"
     ]
    }
   ],
   "source": [
    "import pandas as pd\n",
    "\n",
    "# Load the files\n",
    "attributes_df = pd.read_csv('attributes.csv', header=None)\n",
    "edges_df = pd.read_csv('edges_train.edgelist', header=None)\n",
    "solution_input_df = pd.read_csv('solutionInput.csv', header=None)\n",
    "\n",
    "# Display first few rows of each DataFrame to inspect their structure\n",
    "print(\"Attributes DataFrame:\")\n",
    "print(attributes_df.head())\n",
    "\n",
    "print(\"\\nEdges DataFrame:\")\n",
    "print(edges_df.head())\n",
    "\n",
    "print(\"\\nSolution Input DataFrame:\")\n",
    "print(solution_input_df.head())\n",
    "\n",
    "# Clean the data by removing any headers (if necessary)\n",
    "attributes_df_cleaned = attributes_df.drop(0)\n",
    "solution_input_df_cleaned = solution_input_df.drop(0)\n",
    "\n",
    "# Rename the columns to something meaningful\n",
    "attributes_df_cleaned.columns = ['Node', 'Attribute']\n",
    "solution_input_df_cleaned.columns = ['ID', 'Node1', 'Node2']\n",
    "\n",
    "# Convert the node IDs to integers\n",
    "attributes_df_cleaned['Node'] = attributes_df_cleaned['Node'].astype(int)\n",
    "solution_input_df_cleaned['Node1'] = solution_input_df_cleaned['Node1'].astype(int)\n",
    "solution_input_df_cleaned['Node2'] = solution_input_df_cleaned['Node2'].astype(int)\n",
    "\n",
    "# Display the cleaned data\n",
    "print(\"\\nCleaned Attributes DataFrame:\")\n",
    "print(attributes_df_cleaned.head())\n",
    "\n",
    "print(\"\\nCleaned Solution Input DataFrame:\")\n",
    "print(solution_input_df_cleaned.head())\n"
   ]
  },
  {
   "cell_type": "code",
   "execution_count": 7,
   "id": "2c6db515-332d-4f52-ae4d-19f15acb00e3",
   "metadata": {},
   "outputs": [
    {
     "name": "stdout",
     "output_type": "stream",
     "text": [
      "Number of nodes: 1500\n",
      "Number of edges: 6600\n",
      "Is the graph connected? True\n",
      "Neighbors of node 0: [5, 6, 7, 8, 9, 12, 13, 14, 16, 17, 18, 21, 22, 23, 26, 34, 35, 40, 48, 55, 57, 63, 71, 81, 103, 113, 115, 118, 120, 124, 130, 161, 162, 173, 177, 178, 179, 204, 213, 232, 239, 242, 247, 112, 218, 76, 102, 323]\n"
     ]
    }
   ],
   "source": [
    "import networkx as nx\n",
    "\n",
    "# Create an undirected graph\n",
    "graph = nx.Graph()\n",
    "\n",
    "# Add edges from the edges_train.edgelist\n",
    "graph.add_edges_from(edges_df.values)\n",
    "\n",
    "# Print some basic information about the graph\n",
    "print(f\"Number of nodes: {graph.number_of_nodes()}\")\n",
    "print(f\"Number of edges: {graph.number_of_edges()}\")\n",
    "\n",
    "# Check if the graph is connected\n",
    "print(f\"Is the graph connected? {nx.is_connected(graph)}\")\n",
    "\n",
    "# Example of getting neighbors of a node (optional, just to check)\n",
    "node_id = 0  # Example node\n",
    "print(f\"Neighbors of node {node_id}: {list(graph.neighbors(node_id))}\")\n"
   ]
  },
  {
   "cell_type": "code",
   "execution_count": 31,
   "id": "9bf03c5c-e2f1-41f9-a169-8d9b06ac197e",
   "metadata": {},
   "outputs": [
    {
     "name": "stdout",
     "output_type": "stream",
     "text": [
      "   Common_Neighbors  Jaccard_Coeff  Adamic_Adar  Attr_Similarity\n",
      "0                 0        0.00000     0.000000                0\n",
      "1                 2        0.04878     0.809981                1\n",
      "2                 0        0.00000     0.000000                0\n",
      "3                 0        0.00000     0.000000                0\n",
      "4                 0        0.00000     0.000000                1\n"
     ]
    }
   ],
   "source": [
    "# Function to calculate features for each pair of nodes\n",
    "def calculate_features(graph, node_pairs, attributes_df):\n",
    "    features = []\n",
    "    \n",
    "    # Create a dictionary of attributes for quick lookup\n",
    "    node_attributes = dict(zip(attributes_df['Node'], attributes_df['Attribute']))\n",
    "    \n",
    "    # Iterate over the node pairs\n",
    "    for _, row in node_pairs.iterrows():\n",
    "        node1 = row['Node1']\n",
    "        node2 = row['Node2']\n",
    "        \n",
    "        # Common neighbors\n",
    "        common_neighbors = len(list(nx.common_neighbors(graph, node1, node2)))\n",
    "        \n",
    "        # Jaccard coefficient\n",
    "        jaccard_coeff = next(nx.jaccard_coefficient(graph, [(node1, node2)]), (None, None, 0))[2]\n",
    "        \n",
    "        # Adamic/Adar index\n",
    "        adamic_adar = next(nx.adamic_adar_index(graph, [(node1, node2)]), (None, None, 0))[2]\n",
    "        \n",
    "        # Preferential attachment\n",
    "        #preferential_attachment = next(nx.preferential_attachment(graph, [(node1, node2)]), (None, None, 0))[2]\n",
    "        \n",
    "        # Attribute similarity (1 if both nodes have the same attribute, 0 otherwise)\n",
    "        attribute_similarity = 1 if node_attributes.get(node1) == node_attributes.get(node2) else 0\n",
    "        \n",
    "        # Append the calculated features for this pair of nodes\n",
    "        features.append([common_neighbors, jaccard_coeff, adamic_adar, attribute_similarity])\n",
    "    \n",
    "    return pd.DataFrame(features, columns=['Common_Neighbors', 'Jaccard_Coeff', 'Adamic_Adar', 'Attr_Similarity'])\n",
    "\n",
    "# Extract features for the node pairs in solutionInput.csv\n",
    "solution_features = calculate_features(graph, solution_input_df_cleaned, attributes_df_cleaned)\n",
    "\n",
    "# Display the extracted features\n",
    "print(solution_features.head())\n"
   ]
  },
  {
   "cell_type": "code",
   "execution_count": 35,
   "id": "a3450f2d-b050-434a-9fe5-31d84ad5ecb0",
   "metadata": {},
   "outputs": [
    {
     "name": "stdout",
     "output_type": "stream",
     "text": [
      "Validation Accuracy: 0.8333333333333334\n",
      "Validation Precision: 0.8209285187914517\n"
     ]
    },
    {
     "data": {
      "image/png": "[encoded data removed]",
      "text/plain": [
       "<Figure size 640x480 with 2 Axes>"
      ]
     },
     "metadata": {},
     "output_type": "display_data"
    },
    {
     "name": "stdout",
     "output_type": "stream",
     "text": [
      "Sensitivity: 0.8497330282227308\n",
      "Specificity: 0.8171557562076749\n",
      "False positive rate: 0.18284424379232506\n",
      "False negative rate: 0.15026697177726925\n",
      "Precision: 0.8209285187914517\n"
     ]
    }
   ],
   "source": [
    "from sklearn.metrics import accuracy_score, precision_score\n",
    "import numpy as np\n",
    "\n",
    "# Step 4.1: Generate positive examples (existing edges)\n",
    "positive_edges_df = pd.DataFrame(edges_df.values, columns=['Node1', 'Node2'])\n",
    "\n",
    "# Step 4.2: Generate negative examples (random non-edges)\n",
    "# We'll sample random pairs of nodes that are not connected\n",
    "all_possible_edges = pd.DataFrame([(i, j) for i in range(graph.number_of_nodes()) for j in range(i+1, graph.number_of_nodes())])\n",
    "existing_edges_set = set(map(tuple, map(sorted, edges_df.values)))\n",
    "\n",
    "# Filter out existing edges to create negative samples\n",
    "negative_edges_df = all_possible_edges[~all_possible_edges.apply(lambda x: tuple(sorted(x)) in existing_edges_set, axis=1)]\n",
    "negative_edges_df = negative_edges_df.sample(n=1*len(positive_edges_df), random_state=42)  # Sample more negative examples (3:1 ratio)\n",
    "\n",
    "# Step 4.3: Extract features for both positive and negative examples\n",
    "positive_features = calculate_features(graph, positive_edges_df, attributes_df_cleaned)\n",
    "negative_features = calculate_features(graph, negative_edges_df.rename(columns={0: 'Node1', 1: 'Node2'}), attributes_df_cleaned)\n",
    "\n",
    "# Step 4.4: Assign labels (1 for positive, 0 for negative)\n",
    "positive_features['Label'] = 1\n",
    "negative_features['Label'] = 0\n",
    "\n",
    "# Combine both into one dataset\n",
    "training_data = pd.concat([positive_features, negative_features])\n",
    "\n",
    "# Step 4.5: Separate features (X) and labels (y)\n",
    "X = training_data.drop(columns=['Label'])\n",
    "y = training_data['Label']\n",
    "\n",
    "# Step 4.6: Split the data into training and validation sets\n",
    "X_train, X_val, y_train, y_val = train_test_split(X, y, test_size=0.2, random_state=42)\n",
    "\n",
    "# Step 4.7: Train a RandomForest classifier (or LGBM in this case)\n",
    "# Parameter grids for each model\n",
    "param_grid = [#{'penalty': ['l1', 'l2'], 'C': [0.01, 0.1, 1, 10], 'solver': ['liblinear']}]  # Logistic Regression\n",
    "            {'n_estimators': [50, 100, 200], 'max_depth': [3, 5, 10]}]  # RandomForest\n",
    "    \n",
    "model = RandomForestClassifier(random_state=42)\n",
    "classifier = GridSearchCV(model, param_grid, cv=5)\n",
    "#classifier = LGBMClassifier(boosting_type='gbdt', learning_rate=0.1, max_depth=5, n_estimators=50, num_leaves=20, random_state=42)\n",
    "classifier.fit(X_train, y_train)\n",
    "\n",
    "# Step 4.8: Predict on the validation set and calculate accuracy and precision\n",
    "y_pred = classifier.predict(X_val)\n",
    "val_accuracy = accuracy_score(y_val, y_pred)\n",
    "val_precision = precision_score(y_val, y_pred)\n",
    "\n",
    "# Output the validation accuracy, precision, variance, and standard deviation\n",
    "print(f\"Validation Accuracy: {val_accuracy}\")\n",
    "print(f\"Validation Precision: {val_precision}\")\n",
    "\n",
    "cm = confusion_matrix(y_val, y_pred, labels=classifier.classes_)\n",
    "disp = ConfusionMatrixDisplay(confusion_matrix=cm,display_labels=classifier.classes_)\n",
    "disp.plot()\n",
    "plt.show()\n",
    "\n",
    "tp = cm[1][1]\n",
    "tn = cm[0][0]\n",
    "fp = cm[0][1]\n",
    "fn = cm[1][0]\n",
    "\n",
    "# Sensitivity (True positive rate) = TP/(TP+FN)\n",
    "sensitivity = tp/(tp+fn)\n",
    "# Specificity (True negative rate) = TN/(TN+FP)\n",
    "specificity = tn/(tn+fp)\n",
    "# False Positive Rate = FP/(FP+TN)\n",
    "fpr = fp/(fp+tn)\n",
    "# False Negative rate = FN/(FN+TP)\n",
    "fnr = fn/(fn+tp)\n",
    "# Precision = TP/(TP+FP)\n",
    "precision = tp/(tp+fp)\n",
    "\n",
    "print('Sensitivity:', sensitivity)\n",
    "print('Specificity:', specificity)\n",
    "print('False positive rate:', fpr)\n",
    "print('False negative rate:', fnr)\n",
    "print('Precision:', precision)"
   ]
  },
  {
   "cell_type": "code",
   "execution_count": 37,
   "id": "2ac0c1eb-1245-40d2-918f-f96353d00407",
   "metadata": {},
   "outputs": [
    {
     "name": "stdout",
     "output_type": "stream",
     "text": [
      "Predictions saved to 'predictions_output.csv'\n"
     ]
    }
   ],
   "source": [
    "# Step 5.1: Use the trained classifier to predict on the test set (solutionInput.csv)\n",
    "# The features for the test set (solution_input_df_cleaned) have already been extracted as 'solution_features'\n",
    "test_predictions = classifier.predict(solution_features)\n",
    "\n",
    "# Step 5.2: Add the predictions to the solution input DataFrame\n",
    "solution_input_df_cleaned['Prediction'] = test_predictions\n",
    "\n",
    "# Step 5.3: Prepare the final output DataFrame (only ID and Prediction columns)\n",
    "final_output = solution_input_df_cleaned[['ID', 'Prediction']]\n",
    "\n",
    "# Step 5.4: Save the final output to a CSV file\n",
    "final_output.to_csv('predictions_output.csv', index=False)\n",
    "\n",
    "# Confirm completion\n",
    "print(\"Predictions saved to 'predictions_output.csv'\")\n"
   ]
  },
  {
   "cell_type": "code",
   "execution_count": null,
   "id": "d2aaec51-a8cf-435a-82ed-50d557e69927",
   "metadata": {},
   "outputs": [],
   "source": []
  }
 ],
 "metadata": {
  "kernelspec": {
   "display_name": "Python 3 (ipykernel)",
   "language": "python",
   "name": "python3"
  },
  "language_info": {
   "codemirror_mode": {
    "name": "ipython",
    "version": 3
   },
   "file_extension": ".py",
   "mimetype": "text/x-python",
   "name": "python",
   "nbconvert_exporter": "python",
   "pygments_lexer": "ipython3",
   "version": "3.12.4"
  }
 },
 "nbformat": 4,
 "nbformat_minor": 5
}
